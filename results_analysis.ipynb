{
 "cells": [
  {
   "cell_type": "code",
   "execution_count": null,
   "metadata": {},
   "outputs": [],
   "source": [
    "import os\n",
    "\n",
    "\n",
    "import numpy as np\n",
    "import matplotlib.pyplot as plt\n",
    "\n",
    "from brainvision_pp_latency_testing import read_vmrk, analyze_df"
   ]
  },
  {
   "cell_type": "markdown",
   "metadata": {},
   "source": [
    "# Results"
   ]
  },
  {
   "cell_type": "code",
   "execution_count": null,
   "metadata": {},
   "outputs": [],
   "source": [
    "f_usb = os.path.join(os.getcwd(), 'brainvision_pp_latency_testing', 'data', 'usb.vmrk')\n",
    "f_lwl = os.path.join(os.getcwd(), 'brainvision_pp_latency_testing', 'data', 'lwl.vmrk')"
   ]
  },
  {
   "cell_type": "code",
   "execution_count": null,
   "metadata": {},
   "outputs": [],
   "source": [
    "print('Trigger Box: USB')\n",
    "usb_diffs = analyze_df(read_vmrk(f_usb, 'R128', 'S  1'))\n",
    "\n",
    "print('\\n\\n-----------------\\n\\n')\n",
    "print('Trigger Box: LWL')\n",
    "lwl_diffs = analyze_df(read_vmrk(f_lwl, 'R128', 'S  1'))\n",
    "\n",
    "fig, axs = plt.subplots(1, 2, figsize=(10,5), sharey=True, sharex=True)\n",
    "\n",
    "axs[0].set_title('Trigger Box: USB Histogram')\n",
    "usb_hist = axs[0].hist(np.round(1/5000*usb_diffs, 3), bins=100)\n",
    "axs[0].set_ylabel('Count')\n",
    "axs[0].set_xlabel('Delay time (seconds)')\n",
    "\n",
    "\n",
    "axs[1].set_title('Trigger Box: LWL Histogram')\n",
    "lwl_hist = axs[1].hist(np.round(1/5000*lwl_diffs, 3), bins=100)"
   ]
  }
 ],
 "metadata": {
  "kernelspec": {
   "display_name": "Python 3",
   "language": "python",
   "name": "python3"
  },
  "language_info": {
   "codemirror_mode": {
    "name": "ipython",
    "version": 3
   },
   "file_extension": ".py",
   "mimetype": "text/x-python",
   "name": "python",
   "nbconvert_exporter": "python",
   "pygments_lexer": "ipython3",
   "version": "3.6.7"
  }
 },
 "nbformat": 4,
 "nbformat_minor": 2
}
