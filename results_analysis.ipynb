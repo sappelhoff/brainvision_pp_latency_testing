{
 "cells": [
  {
   "cell_type": "code",
   "execution_count": 1,
   "metadata": {},
   "outputs": [],
   "source": [
    "import os\n",
    "\n",
    "\n",
    "import numpy as np\n",
    "import matplotlib.pyplot as plt\n",
    "\n",
    "from brainvision_pp_latency_testing import read_vmrk, analyze_df"
   ]
  },
  {
   "cell_type": "markdown",
   "metadata": {},
   "source": [
    "# Results"
   ]
  },
  {
   "cell_type": "code",
   "execution_count": 2,
   "metadata": {},
   "outputs": [],
   "source": [
    "f_usb = os.path.join(os.getcwd(), 'brainvision_pp_latency_testing', 'data', 'usb-low.vmrk')\n",
    "f_pp = os.path.join(os.getcwd(), 'brainvision_pp_latency_testing', 'data', 'pp-low.vmrk')"
   ]
  },
  {
   "cell_type": "code",
   "execution_count": 7,
   "metadata": {},
   "outputs": [
    {
     "name": "stdout",
     "output_type": "stream",
     "text": [
      "Trigger Box\n",
      "Analyzing differences between 123 sent triggers\n",
      "\"S  1\" comes after \"R128\" with a delay of:\n",
      "------------------------------------\n",
      "Mean 31.927 samples\n",
      "STD: 11.517 samples\n",
      "Median: 33.0 samples\n",
      "\n",
      "\n",
      "-----------------\n",
      "\n",
      "\n",
      "Parallel Port\n",
      "Analyzing differences between 122 sent triggers\n",
      "\"S  1\" comes after \"R128\" with a delay of:\n",
      "------------------------------------\n",
      "Mean 30.77 samples\n",
      "STD: 12.38 samples\n",
      "Median: 30.0 samples\n"
     ]
    },
    {
     "data": {
      "image/png": "[encoded data removed]",
      "text/plain": [
       "<Figure size 720x360 with 2 Axes>"
      ]
     },
     "metadata": {},
     "output_type": "display_data"
    }
   ],
   "source": [
    "print('Trigger Box')\n",
    "usb_diffs = analyze_df(read_vmrk(f_usb, 'R128', 'S  1'))\n",
    "\n",
    "print('\\n\\n-----------------\\n\\n')\n",
    "print('Parallel Port')\n",
    "pp_diffs = analyze_df(read_vmrk(f_pp, 'R128', 'S  1'))\n",
    "\n",
    "fig, axs = plt.subplots(1, 2, figsize=(10,5), sharey=True, sharex=True)\n",
    "\n",
    "axs[0].set_title('Trigger Box Histogram')\n",
    "usb_hist = axs[0].hist(np.round(1/5000*usb_diffs, 3), bins=100)\n",
    "axs[0].set_ylabel('Count')\n",
    "axs[0].set_xlabel('Delay time (ms)')\n",
    "\n",
    "\n",
    "axs[1].set_title('Parallel Port Histogram')\n",
    "pp_hist = axs[1].hist(np.round(1/5000*pp_diffs, 3), bins=100)"
   ]
  },
  {
   "cell_type": "code",
   "execution_count": null,
   "metadata": {},
   "outputs": [],
   "source": []
  }
 ],
 "metadata": {
  "kernelspec": {
   "display_name": "Python 3",
   "language": "python",
   "name": "python3"
  },
  "language_info": {
   "codemirror_mode": {
    "name": "ipython",
    "version": 3
   },
   "file_extension": ".py",
   "mimetype": "text/x-python",
   "name": "python",
   "nbconvert_exporter": "python",
   "pygments_lexer": "ipython3",
   "version": "3.5.5"
  }
 },
 "nbformat": 4,
 "nbformat_minor": 2
}
